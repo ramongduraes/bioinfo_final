{
 "cells": [
  {
   "cell_type": "markdown",
   "id": "external-dating",
   "metadata": {},
   "source": [
    "### I gave up on doing this and just downloaded all .pdb files manually. The code is being kept here for future reference only\n",
    "\n",
    "**NOTE: Structure coordinates for protein P0DTD8 weren't available on swissmodel**"
   ]
  },
  {
   "cell_type": "raw",
   "id": "challenging-veteran",
   "metadata": {},
   "source": [
    "# Getting links for protein structure coordinates"
   ]
  },
  {
   "cell_type": "raw",
   "id": "geological-orleans",
   "metadata": {},
   "source": [
    "from bs4 import BeautifulSoup # pip install BeautifulSoup4\n",
    "import requests\n",
    "import pickle # pip install pickleshare\n",
    "import re\n",
    "import pandas as pd # pip install pandas"
   ]
  },
  {
   "cell_type": "raw",
   "id": "prospective-fossil",
   "metadata": {},
   "source": [
    "## Getting unique protein names"
   ]
  },
  {
   "cell_type": "raw",
   "id": "violent-butterfly",
   "metadata": {},
   "source": [
    "data_path = '../data/swissmodel_dataframe.pkl'\n",
    "with open(data_path, 'rb') as f:\n",
    "    df = pickle.load(f)\n",
    "df.head()"
   ]
  },
  {
   "cell_type": "raw",
   "id": "adapted-tsunami",
   "metadata": {},
   "source": [
    "all_proteins = list(df.Protein.unique())\n",
    "all_proteins"
   ]
  },
  {
   "cell_type": "raw",
   "id": "working-assault",
   "metadata": {},
   "source": [
    "## Assembling SwissModel URLs (for each protein)"
   ]
  },
  {
   "cell_type": "raw",
   "id": "great-presentation",
   "metadata": {},
   "source": [
    "base_url = 'https://swissmodel.expasy.org/repository/uniprot/{}'"
   ]
  },
  {
   "cell_type": "raw",
   "id": "moderate-integration",
   "metadata": {},
   "source": [
    "Testing url"
   ]
  },
  {
   "cell_type": "raw",
   "id": "legitimate-angola",
   "metadata": {},
   "source": [
    "data = requests.get(base_url.format(all_proteins[0]))"
   ]
  },
  {
   "cell_type": "raw",
   "id": "nervous-chancellor",
   "metadata": {},
   "source": [
    "from bs4 import SoupStrainer"
   ]
  },
  {
   "cell_type": "raw",
   "id": "starting-driving",
   "metadata": {},
   "source": [
    "soup = BeautifulSoup(str(data.content), 'html.parser', parse_only=SoupStrainer('a', href=True))"
   ]
  },
  {
   "cell_type": "raw",
   "id": "secret-submission",
   "metadata": {},
   "source": [
    "all_a = soup.find_all('a')"
   ]
  },
  {
   "cell_type": "raw",
   "id": "persistent-spotlight",
   "metadata": {},
   "source": [
    "for a in all_a:\n",
    "    print(a.get('href'))"
   ]
  },
  {
   "cell_type": "raw",
   "id": "hybrid-commission",
   "metadata": {},
   "source": [
    "print(soup.find_all('a', class_='glyphicon glyphicon-download-alt'))"
   ]
  }
 ],
 "metadata": {
  "kernelspec": {
   "display_name": "Python 3",
   "language": "python",
   "name": "python3"
  },
  "language_info": {
   "codemirror_mode": {
    "name": "ipython",
    "version": 3
   },
   "file_extension": ".py",
   "mimetype": "text/x-python",
   "name": "python",
   "nbconvert_exporter": "python",
   "pygments_lexer": "ipython3",
   "version": "3.8.5"
  },
  "varInspector": {
   "cols": {
    "lenName": 16,
    "lenType": 16,
    "lenVar": 40
   },
   "kernels_config": {
    "python": {
     "delete_cmd_postfix": "",
     "delete_cmd_prefix": "del ",
     "library": "var_list.py",
     "varRefreshCmd": "print(var_dic_list())"
    },
    "r": {
     "delete_cmd_postfix": ") ",
     "delete_cmd_prefix": "rm(",
     "library": "var_list.r",
     "varRefreshCmd": "cat(var_dic_list()) "
    }
   },
   "types_to_exclude": [
    "module",
    "function",
    "builtin_function_or_method",
    "instance",
    "_Feature"
   ],
   "window_display": false
  }
 },
 "nbformat": 4,
 "nbformat_minor": 5
}
