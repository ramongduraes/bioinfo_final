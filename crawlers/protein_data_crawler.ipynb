{
 "cells": [
  {
   "cell_type": "code",
   "execution_count": 1,
   "id": "complicated-czech",
   "metadata": {},
   "outputs": [],
   "source": [
    "import numpy as np\n",
    "import pandas as pd\n",
    "import os\n",
    "import pickle\n",
    "import wget #!pip install python3-wget"
   ]
  },
  {
   "cell_type": "markdown",
   "id": "featured-closure",
   "metadata": {},
   "source": [
    "# Getting Swissmodel dataframe"
   ]
  },
  {
   "cell_type": "code",
   "execution_count": 2,
   "id": "capital-princeton",
   "metadata": {},
   "outputs": [
    {
     "data": {
      "text/plain": [
       "['P0DTC1.json', 'raw_page', 'swissmodel_dataframe.pkl']"
      ]
     },
     "execution_count": 2,
     "metadata": {},
     "output_type": "execute_result"
    }
   ],
   "source": [
    "data_path = '../data/'\n",
    "os.listdir(data_path)"
   ]
  },
  {
   "cell_type": "code",
   "execution_count": 3,
   "id": "light-secretariat",
   "metadata": {},
   "outputs": [
    {
     "data": {
      "text/html": [
       "<div>\n",
       "<style scoped>\n",
       "    .dataframe tbody tr th:only-of-type {\n",
       "        vertical-align: middle;\n",
       "    }\n",
       "\n",
       "    .dataframe tbody tr th {\n",
       "        vertical-align: top;\n",
       "    }\n",
       "\n",
       "    .dataframe thead th {\n",
       "        text-align: right;\n",
       "    }\n",
       "</style>\n",
       "<table border=\"1\" class=\"dataframe\">\n",
       "  <thead>\n",
       "    <tr style=\"text-align: right;\">\n",
       "      <th></th>\n",
       "      <th>Protein</th>\n",
       "      <th>Frequency</th>\n",
       "      <th>From</th>\n",
       "      <th>To</th>\n",
       "      <th>Position</th>\n",
       "      <th>Row</th>\n",
       "    </tr>\n",
       "  </thead>\n",
       "  <tbody>\n",
       "    <tr>\n",
       "      <th>0</th>\n",
       "      <td>P0DTC1</td>\n",
       "      <td>0.00003</td>\n",
       "      <td>S</td>\n",
       "      <td>A</td>\n",
       "      <td>4393</td>\n",
       "      <td>0</td>\n",
       "    </tr>\n",
       "    <tr>\n",
       "      <th>1</th>\n",
       "      <td>P0DTC1</td>\n",
       "      <td>0.00003</td>\n",
       "      <td>S</td>\n",
       "      <td>L</td>\n",
       "      <td>4393</td>\n",
       "      <td>0</td>\n",
       "    </tr>\n",
       "    <tr>\n",
       "      <th>2</th>\n",
       "      <td>P0DTC1</td>\n",
       "      <td>0.00016</td>\n",
       "      <td>A</td>\n",
       "      <td>D</td>\n",
       "      <td>4394</td>\n",
       "      <td>1</td>\n",
       "    </tr>\n",
       "    <tr>\n",
       "      <th>3</th>\n",
       "      <td>P0DTC1</td>\n",
       "      <td>0.00016</td>\n",
       "      <td>A</td>\n",
       "      <td>S</td>\n",
       "      <td>4394</td>\n",
       "      <td>1</td>\n",
       "    </tr>\n",
       "    <tr>\n",
       "      <th>4</th>\n",
       "      <td>P0DTC1</td>\n",
       "      <td>0.00016</td>\n",
       "      <td>A</td>\n",
       "      <td>T</td>\n",
       "      <td>4394</td>\n",
       "      <td>1</td>\n",
       "    </tr>\n",
       "  </tbody>\n",
       "</table>\n",
       "</div>"
      ],
      "text/plain": [
       "  Protein  Frequency From To  Position  Row\n",
       "0  P0DTC1    0.00003    S  A      4393    0\n",
       "1  P0DTC1    0.00003    S  L      4393    0\n",
       "2  P0DTC1    0.00016    A  D      4394    1\n",
       "3  P0DTC1    0.00016    A  S      4394    1\n",
       "4  P0DTC1    0.00016    A  T      4394    1"
      ]
     },
     "execution_count": 3,
     "metadata": {},
     "output_type": "execute_result"
    }
   ],
   "source": [
    "mutations_path = data_path + 'swissmodel_dataframe.pkl'\n",
    "with open(mutations_path, 'rb') as f:\n",
    "    mutations_df = pickle.load(f)\n",
    "\n",
    "mutations_df.head()"
   ]
  },
  {
   "cell_type": "markdown",
   "id": "crucial-conference",
   "metadata": {},
   "source": [
    "# Getting all unique protein names"
   ]
  },
  {
   "cell_type": "code",
   "execution_count": 4,
   "id": "reasonable-renaissance",
   "metadata": {},
   "outputs": [
    {
     "name": "stdout",
     "output_type": "stream",
     "text": [
      "['P0DTC1', 'P0DTC2', 'P0DTC3', 'P0DTC4', 'P0DTC5', 'P0DTC6', 'P0DTC7', 'P0DTC8', 'P0DTC9', 'P0DTD1', 'P0DTD8']\n"
     ]
    }
   ],
   "source": [
    "all_proteins = list(mutations_df.Protein.unique())\n",
    "print(all_proteins)"
   ]
  },
  {
   "cell_type": "markdown",
   "id": "acting-dietary",
   "metadata": {},
   "source": [
    "## Downloading Protein JSONs"
   ]
  },
  {
   "cell_type": "markdown",
   "id": "annoying-substance",
   "metadata": {},
   "source": [
    "Assembling URL"
   ]
  },
  {
   "cell_type": "code",
   "execution_count": 5,
   "id": "tight-championship",
   "metadata": {},
   "outputs": [],
   "source": [
    "base_url = \"https://swissmodel.expasy.org/repository/uniprot/{}.json \""
   ]
  },
  {
   "cell_type": "code",
   "execution_count": 11,
   "id": "compact-vertex",
   "metadata": {},
   "outputs": [
    {
     "data": {
      "text/plain": [
       "'P0DTC1.json '"
      ]
     },
     "execution_count": 11,
     "metadata": {},
     "output_type": "execute_result"
    }
   ],
   "source": [
    "result"
   ]
  },
  {
   "cell_type": "code",
   "execution_count": 14,
   "id": "herbal-india",
   "metadata": {},
   "outputs": [
    {
     "name": "stdout",
     "output_type": "stream",
     "text": [
      "P0DTC1\n",
      "P0DTC2\n",
      "P0DTC3\n",
      "P0DTC4\n",
      "P0DTC5\n",
      "P0DTC6\n",
      "P0DTC7\n",
      "P0DTC8\n",
      "P0DTC9\n",
      "P0DTD1\n",
      "P0DTD8\n"
     ]
    }
   ],
   "source": [
    "for protein in all_proteins:\n",
    "    print(protein)\n",
    "    path = data_path + protein + '.json'\n",
    "    wget.download(base_url.format(protein), out=path)"
   ]
  },
  {
   "cell_type": "markdown",
   "id": "visible-forty",
   "metadata": {},
   "source": [
    "## Checking data\n",
    " \n",
    "Checks if original aminoacid position matches it on the sequence"
   ]
  },
  {
   "cell_type": "code",
   "execution_count": 75,
   "id": "fresh-microwave",
   "metadata": {},
   "outputs": [
    {
     "data": {
      "text/html": [
       "<div>\n",
       "<style scoped>\n",
       "    .dataframe tbody tr th:only-of-type {\n",
       "        vertical-align: middle;\n",
       "    }\n",
       "\n",
       "    .dataframe tbody tr th {\n",
       "        vertical-align: top;\n",
       "    }\n",
       "\n",
       "    .dataframe thead th {\n",
       "        text-align: right;\n",
       "    }\n",
       "</style>\n",
       "<table border=\"1\" class=\"dataframe\">\n",
       "  <thead>\n",
       "    <tr style=\"text-align: right;\">\n",
       "      <th></th>\n",
       "      <th>Protein</th>\n",
       "      <th>Frequency</th>\n",
       "      <th>From</th>\n",
       "      <th>To</th>\n",
       "      <th>Position</th>\n",
       "      <th>Row</th>\n",
       "    </tr>\n",
       "  </thead>\n",
       "  <tbody>\n",
       "    <tr>\n",
       "      <th>0</th>\n",
       "      <td>P0DTC1</td>\n",
       "      <td>0.00003</td>\n",
       "      <td>S</td>\n",
       "      <td>A</td>\n",
       "      <td>4393</td>\n",
       "      <td>0</td>\n",
       "    </tr>\n",
       "    <tr>\n",
       "      <th>1</th>\n",
       "      <td>P0DTC1</td>\n",
       "      <td>0.00003</td>\n",
       "      <td>S</td>\n",
       "      <td>L</td>\n",
       "      <td>4393</td>\n",
       "      <td>0</td>\n",
       "    </tr>\n",
       "    <tr>\n",
       "      <th>2</th>\n",
       "      <td>P0DTC1</td>\n",
       "      <td>0.00016</td>\n",
       "      <td>A</td>\n",
       "      <td>D</td>\n",
       "      <td>4394</td>\n",
       "      <td>1</td>\n",
       "    </tr>\n",
       "    <tr>\n",
       "      <th>3</th>\n",
       "      <td>P0DTC1</td>\n",
       "      <td>0.00016</td>\n",
       "      <td>A</td>\n",
       "      <td>S</td>\n",
       "      <td>4394</td>\n",
       "      <td>1</td>\n",
       "    </tr>\n",
       "    <tr>\n",
       "      <th>4</th>\n",
       "      <td>P0DTC1</td>\n",
       "      <td>0.00016</td>\n",
       "      <td>A</td>\n",
       "      <td>T</td>\n",
       "      <td>4394</td>\n",
       "      <td>1</td>\n",
       "    </tr>\n",
       "  </tbody>\n",
       "</table>\n",
       "</div>"
      ],
      "text/plain": [
       "  Protein  Frequency From To  Position  Row\n",
       "0  P0DTC1    0.00003    S  A      4393    0\n",
       "1  P0DTC1    0.00003    S  L      4393    0\n",
       "2  P0DTC1    0.00016    A  D      4394    1\n",
       "3  P0DTC1    0.00016    A  S      4394    1\n",
       "4  P0DTC1    0.00016    A  T      4394    1"
      ]
     },
     "execution_count": 75,
     "metadata": {},
     "output_type": "execute_result"
    }
   ],
   "source": [
    "mutation_df_path = data_path + 'swissmodel_dataframe.pkl'\n",
    "with open(mutation_df_path, 'rb') as f:\n",
    "    mutation_df = pickle.load(f)\n",
    "mutation_df.head()"
   ]
  },
  {
   "cell_type": "markdown",
   "id": "lesbian-bristol",
   "metadata": {},
   "source": [
    "Getting first protein since it has the smallest number of matches"
   ]
  },
  {
   "cell_type": "code",
   "execution_count": 74,
   "id": "based-renaissance",
   "metadata": {},
   "outputs": [
    {
     "name": "stdout",
     "output_type": "stream",
     "text": [
      "P0DTC1 26\n",
      "P0DTC2 2761\n",
      "P0DTC3 1109\n",
      "P0DTC4 199\n",
      "P0DTC5 376\n",
      "P0DTC6 241\n",
      "P0DTC7 625\n",
      "P0DTC8 524\n",
      "P0DTC9 1276\n",
      "P0DTD1 15723\n",
      "P0DTD8 168\n"
     ]
    }
   ],
   "source": [
    "for protein in all_proteins:\n",
    "    with open(data_path+protein+'.json', 'r') as f:\n",
    "        result_dict = json.loads(f.read())\n",
    "        assert len(result_dict['result']['sequence']) == result_dict['result']['sequence_length']\n",
    "        protein_df = mutations_df.loc[mutations_df.Protein == protein]\n",
    "        print(protein, len(protein_df))\n",
    "        for row, mutation in protein_df.iterrows():\n",
    "            assert mutation['From'] == result_dict['result']['sequence'][mutation['Position'] - 1]"
   ]
  }
 ],
 "metadata": {
  "kernelspec": {
   "display_name": "Python 3",
   "language": "python",
   "name": "python3"
  },
  "language_info": {
   "codemirror_mode": {
    "name": "ipython",
    "version": 3
   },
   "file_extension": ".py",
   "mimetype": "text/x-python",
   "name": "python",
   "nbconvert_exporter": "python",
   "pygments_lexer": "ipython3",
   "version": "3.8.5"
  },
  "varInspector": {
   "cols": {
    "lenName": 16,
    "lenType": 16,
    "lenVar": 40
   },
   "kernels_config": {
    "python": {
     "delete_cmd_postfix": "",
     "delete_cmd_prefix": "del ",
     "library": "var_list.py",
     "varRefreshCmd": "print(var_dic_list())"
    },
    "r": {
     "delete_cmd_postfix": ") ",
     "delete_cmd_prefix": "rm(",
     "library": "var_list.r",
     "varRefreshCmd": "cat(var_dic_list()) "
    }
   },
   "types_to_exclude": [
    "module",
    "function",
    "builtin_function_or_method",
    "instance",
    "_Feature"
   ],
   "window_display": false
  }
 },
 "nbformat": 4,
 "nbformat_minor": 5
}
