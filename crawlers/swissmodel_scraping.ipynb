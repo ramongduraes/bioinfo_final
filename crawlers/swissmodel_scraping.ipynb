{
 "cells": [
  {
   "cell_type": "code",
   "execution_count": 234,
   "id": "alike-crazy",
   "metadata": {},
   "outputs": [],
   "source": [
    "from bs4 import BeautifulSoup # pip install BeautifulSoup4\n",
    "import requests\n",
    "import pickle # pip install pickleshare\n",
    "import re\n",
    "import pandas as pd # pip install pandas"
   ]
  },
  {
   "cell_type": "markdown",
   "id": "quality-setup",
   "metadata": {},
   "source": [
    "## Getting all the data from Swiss Model"
   ]
  },
  {
   "cell_type": "code",
   "execution_count": 7,
   "id": "adjusted-wilson",
   "metadata": {},
   "outputs": [],
   "source": [
    "data = requests.get(\"https://swissmodel.expasy.org/repository/user_annotation_project/BdWKmZ\")"
   ]
  },
  {
   "cell_type": "code",
   "execution_count": 24,
   "id": "developed-bedroom",
   "metadata": {},
   "outputs": [],
   "source": [
    "# Saves data to a file\n",
    "raw_page_path = '../data/raw_page'\n",
    "\n",
    "with open(raw_page_path, 'wb') as f:\n",
    "    pickle.dump(data, f)"
   ]
  },
  {
   "cell_type": "markdown",
   "id": "partial-smile",
   "metadata": {},
   "source": [
    "## Scraping"
   ]
  },
  {
   "cell_type": "code",
   "execution_count": 32,
   "id": "unlikely-blackjack",
   "metadata": {},
   "outputs": [],
   "source": [
    "soup = BeautifulSoup(str(data.content), 'html.parser')"
   ]
  },
  {
   "cell_type": "code",
   "execution_count": 66,
   "id": "temporal-preliminary",
   "metadata": {},
   "outputs": [],
   "source": [
    "all_tr = soup.find_all('tr')"
   ]
  },
  {
   "cell_type": "code",
   "execution_count": 79,
   "id": "impossible-sessions",
   "metadata": {},
   "outputs": [
    {
     "name": "stdout",
     "output_type": "stream",
     "text": [
      "7533\n"
     ]
    }
   ],
   "source": [
    "# Discards the first row\n",
    "rows = [element.text for element in soup.find_all('tr')[1:]]\n",
    "print(len(rows))"
   ]
  },
  {
   "cell_type": "markdown",
   "id": "billion-telephone",
   "metadata": {},
   "source": [
    "Good news: 7533 is the number of annotations in the table!"
   ]
  },
  {
   "cell_type": "code",
   "execution_count": 235,
   "id": "naval-impact",
   "metadata": {},
   "outputs": [
    {
     "data": {
      "text/plain": [
       "'P0DTC143934393 #fffdfd -\\\\n            0.000030 (S4393A (nsp11:1), S4393L (nsp11:1))No'"
      ]
     },
     "execution_count": 235,
     "metadata": {},
     "output_type": "execute_result"
    }
   ],
   "source": [
    "rows[0]"
   ]
  },
  {
   "cell_type": "markdown",
   "id": "built-tulsa",
   "metadata": {},
   "source": [
    "### Getting desired data through regular expressions"
   ]
  },
  {
   "cell_type": "code",
   "execution_count": 240,
   "id": "valued-privacy",
   "metadata": {},
   "outputs": [
    {
     "name": "stdout",
     "output_type": "stream",
     "text": [
      "P0DTC1\n"
     ]
    }
   ],
   "source": [
    "protein_pattern = re.compile(r'^\\w{6}')\n",
    "matches = protein_pattern.findall(rows[0])\n",
    "print(matches[0])"
   ]
  },
  {
   "cell_type": "code",
   "execution_count": 242,
   "id": "abstract-money",
   "metadata": {},
   "outputs": [
    {
     "name": "stdout",
     "output_type": "stream",
     "text": [
      "['0.000030']\n"
     ]
    }
   ],
   "source": [
    "frequency_pattern = re.compile(r'\\d\\.\\d{6}')\n",
    "matches = frequency_pattern.findall(rows[0])\n",
    "print(matches)"
   ]
  },
  {
   "cell_type": "code",
   "execution_count": 251,
   "id": "closed-research",
   "metadata": {},
   "outputs": [
    {
     "name": "stdout",
     "output_type": "stream",
     "text": [
      "['A4396E', 'A4396S', 'A4396T', 'A4396V']\n"
     ]
    }
   ],
   "source": [
    "annotation_pattern = re.compile(r'(?<=[\\s(])[A-Z]\\d+[A-Z]')\n",
    "matches = annotation_pattern.findall(rows[3])\n",
    "print(matches)"
   ]
  },
  {
   "cell_type": "code",
   "execution_count": 258,
   "id": "worst-evolution",
   "metadata": {},
   "outputs": [
    {
     "data": {
      "text/plain": [
       "'4396'"
      ]
     },
     "execution_count": 258,
     "metadata": {},
     "output_type": "execute_result"
    }
   ],
   "source": [
    "matches[0][1:-1]"
   ]
  },
  {
   "cell_type": "code",
   "execution_count": 260,
   "id": "powered-foster",
   "metadata": {},
   "outputs": [],
   "source": [
    "from tqdm.notebook import tqdm"
   ]
  },
  {
   "cell_type": "code",
   "execution_count": 264,
   "id": "combined-footage",
   "metadata": {},
   "outputs": [
    {
     "data": {
      "application/vnd.jupyter.widget-view+json": {
       "model_id": "fc925d1df7284a569bc93412a5c20e64",
       "version_major": 2,
       "version_minor": 0
      },
      "text/plain": [
       "  0%|          | 0/7533 [00:00<?, ?it/s]"
      ]
     },
     "metadata": {},
     "output_type": "display_data"
    }
   ],
   "source": [
    "swiss_df = pd.DataFrame(columns=['Protein', 'Frequency', 'From', 'To', 'Position', 'Row'])\n",
    "i = 0\n",
    "with tqdm(total=len(rows)) as pbar:\n",
    "    for n, row in enumerate(rows):\n",
    "        protein = protein_pattern.findall(row)[0]\n",
    "        freq = frequency_pattern.findall(row)[0]\n",
    "        annotations = annotation_pattern.findall(row)\n",
    "        for annotation in annotations:\n",
    "            from_ = annotation[0]\n",
    "            to = annotation[-1:]\n",
    "            position = annotation[1:-1]\n",
    "            swiss_df.loc[i] = [protein, freq, from_, to, position, n]\n",
    "            i += 1\n",
    "        pbar.update(1)"
   ]
  },
  {
   "cell_type": "code",
   "execution_count": 265,
   "id": "related-decline",
   "metadata": {},
   "outputs": [
    {
     "data": {
      "text/html": [
       "<div>\n",
       "<style scoped>\n",
       "    .dataframe tbody tr th:only-of-type {\n",
       "        vertical-align: middle;\n",
       "    }\n",
       "\n",
       "    .dataframe tbody tr th {\n",
       "        vertical-align: top;\n",
       "    }\n",
       "\n",
       "    .dataframe thead th {\n",
       "        text-align: right;\n",
       "    }\n",
       "</style>\n",
       "<table border=\"1\" class=\"dataframe\">\n",
       "  <thead>\n",
       "    <tr style=\"text-align: right;\">\n",
       "      <th></th>\n",
       "      <th>Protein</th>\n",
       "      <th>Frequency</th>\n",
       "      <th>From</th>\n",
       "      <th>To</th>\n",
       "      <th>Position</th>\n",
       "      <th>Row</th>\n",
       "    </tr>\n",
       "  </thead>\n",
       "  <tbody>\n",
       "    <tr>\n",
       "      <th>0</th>\n",
       "      <td>P0DTC1</td>\n",
       "      <td>0.000030</td>\n",
       "      <td>S</td>\n",
       "      <td>A</td>\n",
       "      <td>4393</td>\n",
       "      <td>0</td>\n",
       "    </tr>\n",
       "    <tr>\n",
       "      <th>1</th>\n",
       "      <td>P0DTC1</td>\n",
       "      <td>0.000030</td>\n",
       "      <td>S</td>\n",
       "      <td>L</td>\n",
       "      <td>4393</td>\n",
       "      <td>0</td>\n",
       "    </tr>\n",
       "    <tr>\n",
       "      <th>2</th>\n",
       "      <td>P0DTC1</td>\n",
       "      <td>0.000160</td>\n",
       "      <td>A</td>\n",
       "      <td>D</td>\n",
       "      <td>4394</td>\n",
       "      <td>1</td>\n",
       "    </tr>\n",
       "    <tr>\n",
       "      <th>3</th>\n",
       "      <td>P0DTC1</td>\n",
       "      <td>0.000160</td>\n",
       "      <td>A</td>\n",
       "      <td>S</td>\n",
       "      <td>4394</td>\n",
       "      <td>1</td>\n",
       "    </tr>\n",
       "    <tr>\n",
       "      <th>4</th>\n",
       "      <td>P0DTC1</td>\n",
       "      <td>0.000160</td>\n",
       "      <td>A</td>\n",
       "      <td>T</td>\n",
       "      <td>4394</td>\n",
       "      <td>1</td>\n",
       "    </tr>\n",
       "  </tbody>\n",
       "</table>\n",
       "</div>"
      ],
      "text/plain": [
       "  Protein Frequency From To Position Row\n",
       "0  P0DTC1  0.000030    S  A     4393   0\n",
       "1  P0DTC1  0.000030    S  L     4393   0\n",
       "2  P0DTC1  0.000160    A  D     4394   1\n",
       "3  P0DTC1  0.000160    A  S     4394   1\n",
       "4  P0DTC1  0.000160    A  T     4394   1"
      ]
     },
     "execution_count": 265,
     "metadata": {},
     "output_type": "execute_result"
    }
   ],
   "source": [
    "swiss_df.head()"
   ]
  },
  {
   "cell_type": "code",
   "execution_count": 266,
   "id": "flexible-pound",
   "metadata": {},
   "outputs": [
    {
     "name": "stdout",
     "output_type": "stream",
     "text": [
      "<class 'pandas.core.frame.DataFrame'>\n",
      "Int64Index: 23028 entries, 0 to 23027\n",
      "Data columns (total 6 columns):\n",
      " #   Column     Non-Null Count  Dtype \n",
      "---  ------     --------------  ----- \n",
      " 0   Protein    23028 non-null  object\n",
      " 1   Frequency  23028 non-null  object\n",
      " 2   From       23028 non-null  object\n",
      " 3   To         23028 non-null  object\n",
      " 4   Position   23028 non-null  object\n",
      " 5   Row        23028 non-null  object\n",
      "dtypes: object(6)\n",
      "memory usage: 1.2+ MB\n"
     ]
    }
   ],
   "source": [
    "swiss_df.info()"
   ]
  },
  {
   "cell_type": "markdown",
   "id": "suspended-plenty",
   "metadata": {},
   "source": [
    "### Changing data types"
   ]
  },
  {
   "cell_type": "code",
   "execution_count": 313,
   "id": "horizontal-effect",
   "metadata": {},
   "outputs": [
    {
     "name": "stdout",
     "output_type": "stream",
     "text": [
      "<class 'pandas.core.frame.DataFrame'>\n",
      "Int64Index: 23028 entries, 0 to 23027\n",
      "Data columns (total 6 columns):\n",
      " #   Column     Non-Null Count  Dtype   \n",
      "---  ------     --------------  -----   \n",
      " 0   Protein    23028 non-null  object  \n",
      " 1   Frequency  23028 non-null  float64 \n",
      " 2   From       23028 non-null  category\n",
      " 3   To         23028 non-null  category\n",
      " 4   Position   23028 non-null  int64   \n",
      " 5   Row        23028 non-null  int64   \n",
      "dtypes: category(2), float64(1), int64(2), object(1)\n",
      "memory usage: 945.9+ KB\n"
     ]
    }
   ],
   "source": [
    "type_dict = {\"Protein\": str,\n",
    "            \"Frequency\": float,\n",
    "            \"From\": \"category\",\n",
    "            \"To\": \"category\",\n",
    "            \"Position\": int,\n",
    "            \"Row\": int}\n",
    "\n",
    "swiss_df = swiss_df.astype(type_dict)\n",
    "swiss_df.info()"
   ]
  },
  {
   "cell_type": "markdown",
   "id": "neural-uncertainty",
   "metadata": {},
   "source": [
    "### Saving dataframe"
   ]
  },
  {
   "cell_type": "code",
   "execution_count": 319,
   "id": "essential-lincoln",
   "metadata": {},
   "outputs": [],
   "source": [
    "swiss_df_path = '../data/swissmodel_dataframe.pkl'\n",
    "with open(swiss_df_path, 'wb') as f:\n",
    "    pickle.dump(swiss_df, f)"
   ]
  },
  {
   "cell_type": "code",
   "execution_count": 322,
   "id": "southeast-florence",
   "metadata": {},
   "outputs": [
    {
     "name": "stdout",
     "output_type": "stream",
     "text": [
      "<class 'pandas.core.frame.DataFrame'>\n",
      "Int64Index: 23028 entries, 0 to 23027\n",
      "Data columns (total 6 columns):\n",
      " #   Column     Non-Null Count  Dtype   \n",
      "---  ------     --------------  -----   \n",
      " 0   Protein    23028 non-null  object  \n",
      " 1   Frequency  23028 non-null  float64 \n",
      " 2   From       23028 non-null  category\n",
      " 3   To         23028 non-null  category\n",
      " 4   Position   23028 non-null  int64   \n",
      " 5   Row        23028 non-null  int64   \n",
      "dtypes: category(2), float64(1), int64(2), object(1)\n",
      "memory usage: 944.8+ KB\n"
     ]
    }
   ],
   "source": [
    "# testing load function\n",
    "with open(swiss_df_path, 'rb') as f:\n",
    "    test = pickle.load(f)\n",
    "\n",
    "test.info()"
   ]
  },
  {
   "cell_type": "code",
   "execution_count": 323,
   "id": "ancient-history",
   "metadata": {},
   "outputs": [
    {
     "data": {
      "text/html": [
       "<div>\n",
       "<style scoped>\n",
       "    .dataframe tbody tr th:only-of-type {\n",
       "        vertical-align: middle;\n",
       "    }\n",
       "\n",
       "    .dataframe tbody tr th {\n",
       "        vertical-align: top;\n",
       "    }\n",
       "\n",
       "    .dataframe thead th {\n",
       "        text-align: right;\n",
       "    }\n",
       "</style>\n",
       "<table border=\"1\" class=\"dataframe\">\n",
       "  <thead>\n",
       "    <tr style=\"text-align: right;\">\n",
       "      <th></th>\n",
       "      <th>Protein</th>\n",
       "      <th>Frequency</th>\n",
       "      <th>From</th>\n",
       "      <th>To</th>\n",
       "      <th>Position</th>\n",
       "      <th>Row</th>\n",
       "    </tr>\n",
       "  </thead>\n",
       "  <tbody>\n",
       "    <tr>\n",
       "      <th>23023</th>\n",
       "      <td>P0DTD8</td>\n",
       "      <td>0.00039</td>\n",
       "      <td>A</td>\n",
       "      <td>I</td>\n",
       "      <td>43</td>\n",
       "      <td>7532</td>\n",
       "    </tr>\n",
       "    <tr>\n",
       "      <th>23024</th>\n",
       "      <td>P0DTD8</td>\n",
       "      <td>0.00039</td>\n",
       "      <td>A</td>\n",
       "      <td>L</td>\n",
       "      <td>43</td>\n",
       "      <td>7532</td>\n",
       "    </tr>\n",
       "    <tr>\n",
       "      <th>23025</th>\n",
       "      <td>P0DTD8</td>\n",
       "      <td>0.00039</td>\n",
       "      <td>A</td>\n",
       "      <td>S</td>\n",
       "      <td>43</td>\n",
       "      <td>7532</td>\n",
       "    </tr>\n",
       "    <tr>\n",
       "      <th>23026</th>\n",
       "      <td>P0DTD8</td>\n",
       "      <td>0.00039</td>\n",
       "      <td>A</td>\n",
       "      <td>T</td>\n",
       "      <td>43</td>\n",
       "      <td>7532</td>\n",
       "    </tr>\n",
       "    <tr>\n",
       "      <th>23027</th>\n",
       "      <td>P0DTD8</td>\n",
       "      <td>0.00039</td>\n",
       "      <td>A</td>\n",
       "      <td>V</td>\n",
       "      <td>43</td>\n",
       "      <td>7532</td>\n",
       "    </tr>\n",
       "  </tbody>\n",
       "</table>\n",
       "</div>"
      ],
      "text/plain": [
       "      Protein  Frequency From To  Position   Row\n",
       "23023  P0DTD8    0.00039    A  I        43  7532\n",
       "23024  P0DTD8    0.00039    A  L        43  7532\n",
       "23025  P0DTD8    0.00039    A  S        43  7532\n",
       "23026  P0DTD8    0.00039    A  T        43  7532\n",
       "23027  P0DTD8    0.00039    A  V        43  7532"
      ]
     },
     "execution_count": 323,
     "metadata": {},
     "output_type": "execute_result"
    }
   ],
   "source": [
    "test.tail()"
   ]
  }
 ],
 "metadata": {
  "kernelspec": {
   "display_name": "Python 3",
   "language": "python",
   "name": "python3"
  },
  "language_info": {
   "codemirror_mode": {
    "name": "ipython",
    "version": 3
   },
   "file_extension": ".py",
   "mimetype": "text/x-python",
   "name": "python",
   "nbconvert_exporter": "python",
   "pygments_lexer": "ipython3",
   "version": "3.8.5"
  },
  "varInspector": {
   "cols": {
    "lenName": 16,
    "lenType": 16,
    "lenVar": 40
   },
   "kernels_config": {
    "python": {
     "delete_cmd_postfix": "",
     "delete_cmd_prefix": "del ",
     "library": "var_list.py",
     "varRefreshCmd": "print(var_dic_list())"
    },
    "r": {
     "delete_cmd_postfix": ") ",
     "delete_cmd_prefix": "rm(",
     "library": "var_list.r",
     "varRefreshCmd": "cat(var_dic_list()) "
    }
   },
   "types_to_exclude": [
    "module",
    "function",
    "builtin_function_or_method",
    "instance",
    "_Feature"
   ],
   "window_display": false
  }
 },
 "nbformat": 4,
 "nbformat_minor": 5
}
