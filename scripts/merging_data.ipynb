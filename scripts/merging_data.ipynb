{
 "cells": [
  {
   "cell_type": "markdown",
   "id": "oriental-hybrid",
   "metadata": {},
   "source": [
    "# Machine Learning Models"
   ]
  },
  {
   "cell_type": "code",
   "execution_count": 1,
   "id": "static-insurance",
   "metadata": {},
   "outputs": [],
   "source": [
    "import pandas as pd\n",
    "import numpy as np\n",
    "import matplotlib.pyplot as plt\n",
    "import os\n",
    "import seaborn as sns\n",
    "from tqdm.notebook import tqdm"
   ]
  },
  {
   "cell_type": "markdown",
   "id": "broken-synthetic",
   "metadata": {},
   "source": [
    "## Reading DataFrame"
   ]
  },
  {
   "cell_type": "code",
   "execution_count": 2,
   "id": "cardiac-finder",
   "metadata": {},
   "outputs": [],
   "source": [
    "df = pd.read_pickle('../data/processed_df.pkl')"
   ]
  },
  {
   "cell_type": "markdown",
   "id": "metallic-directive",
   "metadata": {},
   "source": [
    "## Changing / Verifying Data Types"
   ]
  },
  {
   "cell_type": "code",
   "execution_count": 3,
   "id": "contained-essence",
   "metadata": {},
   "outputs": [
    {
     "data": {
      "text/plain": [
       "Protein        object\n",
       "Frequency     float64\n",
       "From         category\n",
       "To           category\n",
       "Position        int64\n",
       "Row             int64\n",
       "LeftAA         object\n",
       "RightAA        object\n",
       "dtype: object"
      ]
     },
     "execution_count": 3,
     "metadata": {},
     "output_type": "execute_result"
    }
   ],
   "source": [
    "df.dtypes"
   ]
  },
  {
   "cell_type": "code",
   "execution_count": 4,
   "id": "recreational-arcade",
   "metadata": {},
   "outputs": [
    {
     "data": {
      "text/plain": [
       "Protein        object\n",
       "Frequency     float64\n",
       "From         category\n",
       "To           category\n",
       "Position        int64\n",
       "Row             int64\n",
       "LeftAA       category\n",
       "RightAA      category\n",
       "dtype: object"
      ]
     },
     "execution_count": 4,
     "metadata": {},
     "output_type": "execute_result"
    }
   ],
   "source": [
    "df.LeftAA = df.LeftAA.astype('category')\n",
    "df.RightAA = df.RightAA.astype('category')\n",
    "\n",
    "df.dtypes"
   ]
  },
  {
   "cell_type": "markdown",
   "id": "trying-combining",
   "metadata": {},
   "source": [
    "## Exploring Response Variable"
   ]
  },
  {
   "cell_type": "code",
   "execution_count": 5,
   "id": "standing-spyware",
   "metadata": {},
   "outputs": [
    {
     "data": {
      "text/plain": [
       "Text(0.5, 1.0, 'awaw')"
      ]
     },
     "execution_count": 5,
     "metadata": {},
     "output_type": "execute_result"
    },
    {
     "data": {
      "image/png": "[encoded data removed]",
      "text/plain": [
       "<Figure size 432x288 with 1 Axes>"
      ]
     },
     "metadata": {
      "needs_background": "light"
     },
     "output_type": "display_data"
    }
   ],
   "source": [
    "df.Frequency.plot()\n",
    "plt.title('awaw')"
   ]
  },
  {
   "cell_type": "code",
   "execution_count": null,
   "id": "natural-kazakhstan",
   "metadata": {},
   "outputs": [],
   "source": [
    "df[df.Frequency > 0.2]"
   ]
  },
  {
   "cell_type": "markdown",
   "id": "empty-alliance",
   "metadata": {},
   "source": [
    "### Normalizing frequencies by dividing by the number of occurrences"
   ]
  },
  {
   "cell_type": "code",
   "execution_count": 6,
   "id": "union-liberal",
   "metadata": {},
   "outputs": [],
   "source": [
    "count_df = df.groupby(['Protein', 'Position'], as_index=False).count()"
   ]
  },
  {
   "cell_type": "code",
   "execution_count": 7,
   "id": "useful-apache",
   "metadata": {},
   "outputs": [
    {
     "data": {
      "application/vnd.jupyter.widget-view+json": {
       "model_id": "db1e3ab234e4406d99dcef21152027f8",
       "version_major": 2,
       "version_minor": 0
      },
      "text/plain": [
       "  0%|          | 0/7521 [00:00<?, ?it/s]"
      ]
     },
     "metadata": {},
     "output_type": "display_data"
    }
   ],
   "source": [
    "norm_df = df.copy()\n",
    "\n",
    "with tqdm(total=len(count_df)) as pbar:\n",
    "    for i, row in count_df.iterrows():\n",
    "        norm_df.loc[(df['Protein'] == row.Protein) & (df['Position'] == row.Position), \"Frequency\"] = df.loc[(df['Protein'] == row.Protein) & (df['Position'] == row.Position)].Frequency / row.Frequency\n",
    "        pbar.update(1)"
   ]
  },
  {
   "cell_type": "code",
   "execution_count": 8,
   "id": "stock-poison",
   "metadata": {
    "scrolled": true
   },
   "outputs": [
    {
     "data": {
      "text/html": [
       "<div>\n",
       "<style scoped>\n",
       "    .dataframe tbody tr th:only-of-type {\n",
       "        vertical-align: middle;\n",
       "    }\n",
       "\n",
       "    .dataframe tbody tr th {\n",
       "        vertical-align: top;\n",
       "    }\n",
       "\n",
       "    .dataframe thead th {\n",
       "        text-align: right;\n",
       "    }\n",
       "</style>\n",
       "<table border=\"1\" class=\"dataframe\">\n",
       "  <thead>\n",
       "    <tr style=\"text-align: right;\">\n",
       "      <th></th>\n",
       "      <th>Protein</th>\n",
       "      <th>Frequency</th>\n",
       "      <th>From</th>\n",
       "      <th>To</th>\n",
       "      <th>Position</th>\n",
       "      <th>Row</th>\n",
       "      <th>LeftAA</th>\n",
       "      <th>RightAA</th>\n",
       "    </tr>\n",
       "  </thead>\n",
       "  <tbody>\n",
       "    <tr>\n",
       "      <th>0</th>\n",
       "      <td>P0DTC1</td>\n",
       "      <td>0.000015</td>\n",
       "      <td>S</td>\n",
       "      <td>A</td>\n",
       "      <td>4393</td>\n",
       "      <td>0</td>\n",
       "      <td>Q</td>\n",
       "      <td>A</td>\n",
       "    </tr>\n",
       "    <tr>\n",
       "      <th>1</th>\n",
       "      <td>P0DTC1</td>\n",
       "      <td>0.000015</td>\n",
       "      <td>S</td>\n",
       "      <td>L</td>\n",
       "      <td>4393</td>\n",
       "      <td>0</td>\n",
       "      <td>Q</td>\n",
       "      <td>A</td>\n",
       "    </tr>\n",
       "    <tr>\n",
       "      <th>2</th>\n",
       "      <td>P0DTC1</td>\n",
       "      <td>0.000040</td>\n",
       "      <td>A</td>\n",
       "      <td>D</td>\n",
       "      <td>4394</td>\n",
       "      <td>1</td>\n",
       "      <td>S</td>\n",
       "      <td>D</td>\n",
       "    </tr>\n",
       "    <tr>\n",
       "      <th>3</th>\n",
       "      <td>P0DTC1</td>\n",
       "      <td>0.000040</td>\n",
       "      <td>A</td>\n",
       "      <td>S</td>\n",
       "      <td>4394</td>\n",
       "      <td>1</td>\n",
       "      <td>S</td>\n",
       "      <td>D</td>\n",
       "    </tr>\n",
       "    <tr>\n",
       "      <th>4</th>\n",
       "      <td>P0DTC1</td>\n",
       "      <td>0.000040</td>\n",
       "      <td>A</td>\n",
       "      <td>T</td>\n",
       "      <td>4394</td>\n",
       "      <td>1</td>\n",
       "      <td>S</td>\n",
       "      <td>D</td>\n",
       "    </tr>\n",
       "  </tbody>\n",
       "</table>\n",
       "</div>"
      ],
      "text/plain": [
       "  Protein  Frequency From To  Position  Row LeftAA RightAA\n",
       "0  P0DTC1   0.000015    S  A      4393    0      Q       A\n",
       "1  P0DTC1   0.000015    S  L      4393    0      Q       A\n",
       "2  P0DTC1   0.000040    A  D      4394    1      S       D\n",
       "3  P0DTC1   0.000040    A  S      4394    1      S       D\n",
       "4  P0DTC1   0.000040    A  T      4394    1      S       D"
      ]
     },
     "execution_count": 8,
     "metadata": {},
     "output_type": "execute_result"
    }
   ],
   "source": [
    "norm_df.head()"
   ]
  },
  {
   "cell_type": "markdown",
   "id": "likely-maker",
   "metadata": {},
   "source": [
    "##### Previous approach: select only first entry\n",
    "clean_df = df.groupby(['Protein', 'Frequency', 'Position'], as_index=False).first()\n",
    "\n",
    "clean_df.head()"
   ]
  },
  {
   "cell_type": "code",
   "execution_count": 9,
   "id": "numerous-ranking",
   "metadata": {},
   "outputs": [
    {
     "data": {
      "text/plain": [
       "<AxesSubplot:xlabel='Frequency'>"
      ]
     },
     "execution_count": 9,
     "metadata": {},
     "output_type": "execute_result"
    },
    {
     "data": {
      "image/png": "[encoded data removed]",
      "text/plain": [
       "<Figure size 432x288 with 1 Axes>"
      ]
     },
     "metadata": {
      "needs_background": "light"
     },
     "output_type": "display_data"
    }
   ],
   "source": [
    "sns.violinplot(x=norm_df.Frequency)"
   ]
  },
  {
   "cell_type": "code",
   "execution_count": 24,
   "id": "minus-cornwall",
   "metadata": {},
   "outputs": [
    {
     "data": {
      "text/plain": [
       "<AxesSubplot:xlabel='Frequency'>"
      ]
     },
     "execution_count": 24,
     "metadata": {},
     "output_type": "execute_result"
    },
    {
     "data": {
      "image/png": "[encoded data removed]",
      "text/plain": [
       "<Figure size 432x288 with 1 Axes>"
      ]
     },
     "metadata": {
      "needs_background": "light"
     },
     "output_type": "display_data"
    }
   ],
   "source": [
    "sns.boxplot(x=norm_df.Frequency[norm_df.Frequency<0.0001])"
   ]
  },
  {
   "cell_type": "code",
   "execution_count": 34,
   "id": "hydraulic-memphis",
   "metadata": {},
   "outputs": [
    {
     "data": {
      "text/plain": [
       "22516"
      ]
     },
     "execution_count": 34,
     "metadata": {},
     "output_type": "execute_result"
    }
   ],
   "source": [
    "len(norm_df.Frequency[norm_df.Frequency<0.001])"
   ]
  },
  {
   "cell_type": "code",
   "execution_count": 35,
   "id": "atmospheric-cooling",
   "metadata": {},
   "outputs": [
    {
     "data": {
      "text/plain": [
       "<AxesSubplot:xlabel='Frequency'>"
      ]
     },
     "execution_count": 35,
     "metadata": {},
     "output_type": "execute_result"
    },
    {
     "data": {
      "image/png": "[encoded data removed]",
      "text/plain": [
       "<Figure size 432x288 with 1 Axes>"
      ]
     },
     "metadata": {
      "needs_background": "light"
     },
     "output_type": "display_data"
    }
   ],
   "source": [
    "sns.violinplot(x=norm_df.Frequency[norm_df.Frequency<0.001])"
   ]
  },
  {
   "cell_type": "markdown",
   "id": "sophisticated-fever",
   "metadata": {},
   "source": [
    "## Merging all features"
   ]
  },
  {
   "cell_type": "code",
   "execution_count": 29,
   "id": "working-measure",
   "metadata": {},
   "outputs": [
    {
     "data": {
      "text/html": [
       "<div>\n",
       "<style scoped>\n",
       "    .dataframe tbody tr th:only-of-type {\n",
       "        vertical-align: middle;\n",
       "    }\n",
       "\n",
       "    .dataframe tbody tr th {\n",
       "        vertical-align: top;\n",
       "    }\n",
       "\n",
       "    .dataframe thead th {\n",
       "        text-align: right;\n",
       "    }\n",
       "</style>\n",
       "<table border=\"1\" class=\"dataframe\">\n",
       "  <thead>\n",
       "    <tr style=\"text-align: right;\">\n",
       "      <th></th>\n",
       "      <th>LeftPol</th>\n",
       "      <th>RightPol</th>\n",
       "      <th>LeftVol</th>\n",
       "      <th>RightVol</th>\n",
       "      <th>LeftCharge</th>\n",
       "      <th>RightCharge</th>\n",
       "      <th>LeftHidro</th>\n",
       "      <th>RightHidro</th>\n",
       "      <th>LeftIsoEl</th>\n",
       "      <th>RightIsoEl</th>\n",
       "    </tr>\n",
       "  </thead>\n",
       "  <tbody>\n",
       "    <tr>\n",
       "      <th>0</th>\n",
       "      <td>1</td>\n",
       "      <td>0</td>\n",
       "      <td>89.0</td>\n",
       "      <td>88.6</td>\n",
       "      <td>-0.539854</td>\n",
       "      <td>-0.204125</td>\n",
       "      <td>-0.8</td>\n",
       "      <td>1.8</td>\n",
       "      <td>5.240009</td>\n",
       "      <td>5.570017</td>\n",
       "    </tr>\n",
       "    <tr>\n",
       "      <th>1</th>\n",
       "      <td>1</td>\n",
       "      <td>0</td>\n",
       "      <td>89.0</td>\n",
       "      <td>166.7</td>\n",
       "      <td>-0.539854</td>\n",
       "      <td>-0.239898</td>\n",
       "      <td>-0.8</td>\n",
       "      <td>3.8</td>\n",
       "      <td>5.240009</td>\n",
       "      <td>5.525000</td>\n",
       "    </tr>\n",
       "    <tr>\n",
       "      <th>2</th>\n",
       "      <td>0</td>\n",
       "      <td>1</td>\n",
       "      <td>88.6</td>\n",
       "      <td>111.1</td>\n",
       "      <td>-0.204125</td>\n",
       "      <td>-1.235597</td>\n",
       "      <td>1.8</td>\n",
       "      <td>-3.5</td>\n",
       "      <td>5.570017</td>\n",
       "      <td>4.299381</td>\n",
       "    </tr>\n",
       "    <tr>\n",
       "      <th>3</th>\n",
       "      <td>0</td>\n",
       "      <td>1</td>\n",
       "      <td>88.6</td>\n",
       "      <td>89.0</td>\n",
       "      <td>-0.204125</td>\n",
       "      <td>-0.539854</td>\n",
       "      <td>1.8</td>\n",
       "      <td>-0.8</td>\n",
       "      <td>5.570017</td>\n",
       "      <td>5.240009</td>\n",
       "    </tr>\n",
       "    <tr>\n",
       "      <th>4</th>\n",
       "      <td>0</td>\n",
       "      <td>1</td>\n",
       "      <td>88.6</td>\n",
       "      <td>116.1</td>\n",
       "      <td>-0.204125</td>\n",
       "      <td>-0.601803</td>\n",
       "      <td>1.8</td>\n",
       "      <td>-0.7</td>\n",
       "      <td>5.570017</td>\n",
       "      <td>5.184989</td>\n",
       "    </tr>\n",
       "  </tbody>\n",
       "</table>\n",
       "</div>"
      ],
      "text/plain": [
       "   LeftPol  RightPol  LeftVol  RightVol  LeftCharge  RightCharge  LeftHidro  \\\n",
       "0        1         0     89.0      88.6   -0.539854    -0.204125       -0.8   \n",
       "1        1         0     89.0     166.7   -0.539854    -0.239898       -0.8   \n",
       "2        0         1     88.6     111.1   -0.204125    -1.235597        1.8   \n",
       "3        0         1     88.6      89.0   -0.204125    -0.539854        1.8   \n",
       "4        0         1     88.6     116.1   -0.204125    -0.601803        1.8   \n",
       "\n",
       "   RightHidro  LeftIsoEl  RightIsoEl  \n",
       "0         1.8   5.240009    5.570017  \n",
       "1         3.8   5.240009    5.525000  \n",
       "2        -3.5   5.570017    4.299381  \n",
       "3        -0.8   5.570017    5.240009  \n",
       "4        -0.7   5.570017    5.184989  "
      ]
     },
     "execution_count": 29,
     "metadata": {},
     "output_type": "execute_result"
    }
   ],
   "source": [
    "amino_df = pd.read_csv('../data/amino_mut.csv')\n",
    "amino_df.head()"
   ]
  },
  {
   "cell_type": "code",
   "execution_count": 37,
   "id": "incoming-bridge",
   "metadata": {},
   "outputs": [],
   "source": [
    "resulting_df = pd.merge(norm_df, amino_df, left_index=True, right_index=True)"
   ]
  },
  {
   "cell_type": "code",
   "execution_count": 38,
   "id": "passive-occupation",
   "metadata": {},
   "outputs": [
    {
     "data": {
      "text/html": [
       "<div>\n",
       "<style scoped>\n",
       "    .dataframe tbody tr th:only-of-type {\n",
       "        vertical-align: middle;\n",
       "    }\n",
       "\n",
       "    .dataframe tbody tr th {\n",
       "        vertical-align: top;\n",
       "    }\n",
       "\n",
       "    .dataframe thead th {\n",
       "        text-align: right;\n",
       "    }\n",
       "</style>\n",
       "<table border=\"1\" class=\"dataframe\">\n",
       "  <thead>\n",
       "    <tr style=\"text-align: right;\">\n",
       "      <th></th>\n",
       "      <th>Protein</th>\n",
       "      <th>Frequency</th>\n",
       "      <th>From</th>\n",
       "      <th>To</th>\n",
       "      <th>Position</th>\n",
       "      <th>Row</th>\n",
       "      <th>LeftAA</th>\n",
       "      <th>RightAA</th>\n",
       "      <th>LeftPol</th>\n",
       "      <th>RightPol</th>\n",
       "      <th>LeftVol</th>\n",
       "      <th>RightVol</th>\n",
       "      <th>LeftCharge</th>\n",
       "      <th>RightCharge</th>\n",
       "      <th>LeftHidro</th>\n",
       "      <th>RightHidro</th>\n",
       "      <th>LeftIsoEl</th>\n",
       "      <th>RightIsoEl</th>\n",
       "    </tr>\n",
       "  </thead>\n",
       "  <tbody>\n",
       "    <tr>\n",
       "      <th>0</th>\n",
       "      <td>P0DTC1</td>\n",
       "      <td>0.000015</td>\n",
       "      <td>S</td>\n",
       "      <td>A</td>\n",
       "      <td>4393</td>\n",
       "      <td>0</td>\n",
       "      <td>Q</td>\n",
       "      <td>A</td>\n",
       "      <td>1</td>\n",
       "      <td>0</td>\n",
       "      <td>89.0</td>\n",
       "      <td>88.6</td>\n",
       "      <td>-0.539854</td>\n",
       "      <td>-0.204125</td>\n",
       "      <td>-0.8</td>\n",
       "      <td>1.8</td>\n",
       "      <td>5.240009</td>\n",
       "      <td>5.570017</td>\n",
       "    </tr>\n",
       "    <tr>\n",
       "      <th>1</th>\n",
       "      <td>P0DTC1</td>\n",
       "      <td>0.000015</td>\n",
       "      <td>S</td>\n",
       "      <td>L</td>\n",
       "      <td>4393</td>\n",
       "      <td>0</td>\n",
       "      <td>Q</td>\n",
       "      <td>A</td>\n",
       "      <td>1</td>\n",
       "      <td>0</td>\n",
       "      <td>89.0</td>\n",
       "      <td>166.7</td>\n",
       "      <td>-0.539854</td>\n",
       "      <td>-0.239898</td>\n",
       "      <td>-0.8</td>\n",
       "      <td>3.8</td>\n",
       "      <td>5.240009</td>\n",
       "      <td>5.525000</td>\n",
       "    </tr>\n",
       "    <tr>\n",
       "      <th>2</th>\n",
       "      <td>P0DTC1</td>\n",
       "      <td>0.000040</td>\n",
       "      <td>A</td>\n",
       "      <td>D</td>\n",
       "      <td>4394</td>\n",
       "      <td>1</td>\n",
       "      <td>S</td>\n",
       "      <td>D</td>\n",
       "      <td>0</td>\n",
       "      <td>1</td>\n",
       "      <td>88.6</td>\n",
       "      <td>111.1</td>\n",
       "      <td>-0.204125</td>\n",
       "      <td>-1.235597</td>\n",
       "      <td>1.8</td>\n",
       "      <td>-3.5</td>\n",
       "      <td>5.570017</td>\n",
       "      <td>4.299381</td>\n",
       "    </tr>\n",
       "    <tr>\n",
       "      <th>3</th>\n",
       "      <td>P0DTC1</td>\n",
       "      <td>0.000040</td>\n",
       "      <td>A</td>\n",
       "      <td>S</td>\n",
       "      <td>4394</td>\n",
       "      <td>1</td>\n",
       "      <td>S</td>\n",
       "      <td>D</td>\n",
       "      <td>0</td>\n",
       "      <td>1</td>\n",
       "      <td>88.6</td>\n",
       "      <td>89.0</td>\n",
       "      <td>-0.204125</td>\n",
       "      <td>-0.539854</td>\n",
       "      <td>1.8</td>\n",
       "      <td>-0.8</td>\n",
       "      <td>5.570017</td>\n",
       "      <td>5.240009</td>\n",
       "    </tr>\n",
       "    <tr>\n",
       "      <th>4</th>\n",
       "      <td>P0DTC1</td>\n",
       "      <td>0.000040</td>\n",
       "      <td>A</td>\n",
       "      <td>T</td>\n",
       "      <td>4394</td>\n",
       "      <td>1</td>\n",
       "      <td>S</td>\n",
       "      <td>D</td>\n",
       "      <td>0</td>\n",
       "      <td>1</td>\n",
       "      <td>88.6</td>\n",
       "      <td>116.1</td>\n",
       "      <td>-0.204125</td>\n",
       "      <td>-0.601803</td>\n",
       "      <td>1.8</td>\n",
       "      <td>-0.7</td>\n",
       "      <td>5.570017</td>\n",
       "      <td>5.184989</td>\n",
       "    </tr>\n",
       "  </tbody>\n",
       "</table>\n",
       "</div>"
      ],
      "text/plain": [
       "  Protein  Frequency From To  Position  Row LeftAA RightAA  LeftPol  RightPol  \\\n",
       "0  P0DTC1   0.000015    S  A      4393    0      Q       A        1         0   \n",
       "1  P0DTC1   0.000015    S  L      4393    0      Q       A        1         0   \n",
       "2  P0DTC1   0.000040    A  D      4394    1      S       D        0         1   \n",
       "3  P0DTC1   0.000040    A  S      4394    1      S       D        0         1   \n",
       "4  P0DTC1   0.000040    A  T      4394    1      S       D        0         1   \n",
       "\n",
       "   LeftVol  RightVol  LeftCharge  RightCharge  LeftHidro  RightHidro  \\\n",
       "0     89.0      88.6   -0.539854    -0.204125       -0.8         1.8   \n",
       "1     89.0     166.7   -0.539854    -0.239898       -0.8         3.8   \n",
       "2     88.6     111.1   -0.204125    -1.235597        1.8        -3.5   \n",
       "3     88.6      89.0   -0.204125    -0.539854        1.8        -0.8   \n",
       "4     88.6     116.1   -0.204125    -0.601803        1.8        -0.7   \n",
       "\n",
       "   LeftIsoEl  RightIsoEl  \n",
       "0   5.240009    5.570017  \n",
       "1   5.240009    5.525000  \n",
       "2   5.570017    4.299381  \n",
       "3   5.570017    5.240009  \n",
       "4   5.570017    5.184989  "
      ]
     },
     "execution_count": 38,
     "metadata": {},
     "output_type": "execute_result"
    }
   ],
   "source": [
    "resulting_df.head()"
   ]
  },
  {
   "cell_type": "code",
   "execution_count": 39,
   "id": "contained-spiritual",
   "metadata": {},
   "outputs": [],
   "source": [
    "resulting_df.to_pickle('../data/resulting_df.pkl')"
   ]
  },
  {
   "cell_type": "markdown",
   "id": "fresh-fashion",
   "metadata": {},
   "source": [
    "\n",
    "- posições com mais densidade de mutação \n",
    "- score para variantes"
   ]
  }
 ],
 "metadata": {
  "kernelspec": {
   "display_name": "Python 3",
   "language": "python",
   "name": "python3"
  },
  "language_info": {
   "codemirror_mode": {
    "name": "ipython",
    "version": 3
   },
   "file_extension": ".py",
   "mimetype": "text/x-python",
   "name": "python",
   "nbconvert_exporter": "python",
   "pygments_lexer": "ipython3",
   "version": "3.8.5"
  },
  "varInspector": {
   "cols": {
    "lenName": 16,
    "lenType": 16,
    "lenVar": 40
   },
   "kernels_config": {
    "python": {
     "delete_cmd_postfix": "",
     "delete_cmd_prefix": "del ",
     "library": "var_list.py",
     "varRefreshCmd": "print(var_dic_list())"
    },
    "r": {
     "delete_cmd_postfix": ") ",
     "delete_cmd_prefix": "rm(",
     "library": "var_list.r",
     "varRefreshCmd": "cat(var_dic_list()) "
    }
   },
   "types_to_exclude": [
    "module",
    "function",
    "builtin_function_or_method",
    "instance",
    "_Feature"
   ],
   "window_display": false
  }
 },
 "nbformat": 4,
 "nbformat_minor": 5
}
