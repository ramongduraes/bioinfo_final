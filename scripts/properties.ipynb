{
 "metadata": {
  "language_info": {
   "codemirror_mode": {
    "name": "ipython",
    "version": 3
   },
   "file_extension": ".py",
   "mimetype": "text/x-python",
   "name": "python",
   "nbconvert_exporter": "python",
   "pygments_lexer": "ipython3",
   "version": "3.8.5-final"
  },
  "orig_nbformat": 2,
  "kernelspec": {
   "name": "python3",
   "display_name": "Python 3.8.5 64-bit",
   "metadata": {
    "interpreter": {
     "hash": "31f2aee4e71d21fbe5cf8b01ff0e069b9275f58929596ceb00d14d90e3e16cd6"
    }
   }
  }
 },
 "nbformat": 4,
 "nbformat_minor": 2,
 "cells": [
  {
   "cell_type": "code",
   "execution_count": 2,
   "metadata": {},
   "outputs": [],
   "source": [
    "from Bio.SeqUtils.ProtParam import ProteinAnalysis\n",
    "import pandas as pd"
   ]
  },
  {
   "cell_type": "code",
   "execution_count": 3,
   "metadata": {},
   "outputs": [],
   "source": [
    "props = ['class', 'gravy', 'isoelectric_point', 'charge_at_pH', 'volume']\n",
    "amino = ['A', 'R', 'N', 'D', 'C', 'Q', 'E', 'G', 'H', 'I', 'L', 'K', 'M', 'F', 'P', 'S', 'T', 'W', 'Y', 'V']\n",
    "volume = [88.6, 173.4, 114.1, 111.1, 108.5, 143.8, 138.4, 60.1, 153.2, 166.7, 166.7, 168.6, 162.9, 189.9, 112.7, 89.0, 116.1, 227.8, 193.6, 140.0]\n",
    "aa_class = ['Non-polar, aliphatic', \n",
    "            'Positively charged', \n",
    "            'Polar, non-charged', \n",
    "            'Negatively charged', \n",
    "            'Polar, non-charged',\n",
    "            'Polar, non-charged',\n",
    "            'Negatively charged',\n",
    "            'Non-polar, aliphatic',\n",
    "            'Positively charged',\n",
    "            'Non-polar, aliphatic',\n",
    "            'Non-polar, aliphatic',\n",
    "            'Positively charged',\n",
    "            'Polar, non-charged',\n",
    "            'Aromatic',\n",
    "            'Non-polar, aliphatic',\n",
    "            'Polar, non-charged',\n",
    "            'Polar, non-charged',\n",
    "            'Aromatic',\n",
    "            'Aromatic',\n",
    "            'Non-polar, aliphatic']\n",
    "\n",
    "df = pd.DataFrame(columns=props, index=amino)\n",
    "df['class'] = aa_class\n",
    "df['volume'] = volume"
   ]
  },
  {
   "cell_type": "code",
   "execution_count": 4,
   "metadata": {},
   "outputs": [],
   "source": [
    "for aa in amino:\n",
    "    X = ProteinAnalysis(aa)\n",
    "    df['gravy'][aa] = X.gravy()\n",
    "    df['isoelectric_point'][aa] = X.isoelectric_point()\n",
    "    df['charge_at_pH'][aa] = X.charge_at_pH(7)"
   ]
  },
  {
   "cell_type": "code",
   "execution_count": 5,
   "metadata": {},
   "outputs": [],
   "source": [
    "aa_props_df_path = '../data/aa_props_dataframe.pkl'\n",
    "df.to_pickle(aa_props_df_path)"
   ]
  },
  {
   "cell_type": "code",
   "execution_count": 6,
   "metadata": {},
   "outputs": [],
   "source": [
    "teste = pd.read_pickle(aa_props_df_path)"
   ]
  },
  {
   "cell_type": "code",
   "execution_count": 7,
   "metadata": {},
   "outputs": [
    {
     "output_type": "execute_result",
     "data": {
      "text/plain": [
       "                  class gravy isoelectric_point charge_at_pH  volume\n",
       "A  Non-polar, aliphatic   1.8          5.570017    -0.204125    88.6\n",
       "R    Positively charged  -4.5          9.750021     0.760092   173.4\n",
       "N    Polar, non-charged  -3.5             5.525    -0.239898   114.1\n",
       "D    Negatively charged  -3.5          4.299381    -1.235597   111.1\n",
       "C    Polar, non-charged   2.5          5.518123    -0.249799   108.5\n",
       "Q    Polar, non-charged  -3.5             5.525    -0.239898   143.8\n",
       "E    Negatively charged  -3.5          4.599264    -1.157935   138.4\n",
       "G  Non-polar, aliphatic  -0.4             5.525    -0.239898    60.1\n",
       "H    Positively charged  -3.2          6.741127    -0.152724   153.2\n",
       "I  Non-polar, aliphatic   4.5             5.525    -0.239898   166.7\n",
       "L  Non-polar, aliphatic   3.8             5.525    -0.239898   166.7\n",
       "K    Positively charged  -3.9          8.750052     0.759103   168.6\n",
       "M    Polar, non-charged   1.9          5.275022    -0.499645   162.9\n",
       "F              Aromatic   2.8             5.525    -0.239898   189.9\n",
       "P  Non-polar, aliphatic  -1.6          5.954987    -0.041471   112.7\n",
       "S    Polar, non-charged  -0.8          5.240009    -0.539854    89.0\n",
       "T    Polar, non-charged  -0.7          5.184989    -0.601803   116.1\n",
       "W              Aromatic  -0.9             5.525    -0.239898   227.8\n",
       "Y              Aromatic  -1.3          5.524318    -0.240897   193.6\n",
       "V  Non-polar, aliphatic   4.2          5.494989    -0.266012   140.0"
      ],
      "text/html": "<div>\n<style scoped>\n    .dataframe tbody tr th:only-of-type {\n        vertical-align: middle;\n    }\n\n    .dataframe tbody tr th {\n        vertical-align: top;\n    }\n\n    .dataframe thead th {\n        text-align: right;\n    }\n</style>\n<table border=\"1\" class=\"dataframe\">\n  <thead>\n    <tr style=\"text-align: right;\">\n      <th></th>\n      <th>class</th>\n      <th>gravy</th>\n      <th>isoelectric_point</th>\n      <th>charge_at_pH</th>\n      <th>volume</th>\n    </tr>\n  </thead>\n  <tbody>\n    <tr>\n      <th>A</th>\n      <td>Non-polar, aliphatic</td>\n      <td>1.8</td>\n      <td>5.570017</td>\n      <td>-0.204125</td>\n      <td>88.6</td>\n    </tr>\n    <tr>\n      <th>R</th>\n      <td>Positively charged</td>\n      <td>-4.5</td>\n      <td>9.750021</td>\n      <td>0.760092</td>\n      <td>173.4</td>\n    </tr>\n    <tr>\n      <th>N</th>\n      <td>Polar, non-charged</td>\n      <td>-3.5</td>\n      <td>5.525</td>\n      <td>-0.239898</td>\n      <td>114.1</td>\n    </tr>\n    <tr>\n      <th>D</th>\n      <td>Negatively charged</td>\n      <td>-3.5</td>\n      <td>4.299381</td>\n      <td>-1.235597</td>\n      <td>111.1</td>\n    </tr>\n    <tr>\n      <th>C</th>\n      <td>Polar, non-charged</td>\n      <td>2.5</td>\n      <td>5.518123</td>\n      <td>-0.249799</td>\n      <td>108.5</td>\n    </tr>\n    <tr>\n      <th>Q</th>\n      <td>Polar, non-charged</td>\n      <td>-3.5</td>\n      <td>5.525</td>\n      <td>-0.239898</td>\n      <td>143.8</td>\n    </tr>\n    <tr>\n      <th>E</th>\n      <td>Negatively charged</td>\n      <td>-3.5</td>\n      <td>4.599264</td>\n      <td>-1.157935</td>\n      <td>138.4</td>\n    </tr>\n    <tr>\n      <th>G</th>\n      <td>Non-polar, aliphatic</td>\n      <td>-0.4</td>\n      <td>5.525</td>\n      <td>-0.239898</td>\n      <td>60.1</td>\n    </tr>\n    <tr>\n      <th>H</th>\n      <td>Positively charged</td>\n      <td>-3.2</td>\n      <td>6.741127</td>\n      <td>-0.152724</td>\n      <td>153.2</td>\n    </tr>\n    <tr>\n      <th>I</th>\n      <td>Non-polar, aliphatic</td>\n      <td>4.5</td>\n      <td>5.525</td>\n      <td>-0.239898</td>\n      <td>166.7</td>\n    </tr>\n    <tr>\n      <th>L</th>\n      <td>Non-polar, aliphatic</td>\n      <td>3.8</td>\n      <td>5.525</td>\n      <td>-0.239898</td>\n      <td>166.7</td>\n    </tr>\n    <tr>\n      <th>K</th>\n      <td>Positively charged</td>\n      <td>-3.9</td>\n      <td>8.750052</td>\n      <td>0.759103</td>\n      <td>168.6</td>\n    </tr>\n    <tr>\n      <th>M</th>\n      <td>Polar, non-charged</td>\n      <td>1.9</td>\n      <td>5.275022</td>\n      <td>-0.499645</td>\n      <td>162.9</td>\n    </tr>\n    <tr>\n      <th>F</th>\n      <td>Aromatic</td>\n      <td>2.8</td>\n      <td>5.525</td>\n      <td>-0.239898</td>\n      <td>189.9</td>\n    </tr>\n    <tr>\n      <th>P</th>\n      <td>Non-polar, aliphatic</td>\n      <td>-1.6</td>\n      <td>5.954987</td>\n      <td>-0.041471</td>\n      <td>112.7</td>\n    </tr>\n    <tr>\n      <th>S</th>\n      <td>Polar, non-charged</td>\n      <td>-0.8</td>\n      <td>5.240009</td>\n      <td>-0.539854</td>\n      <td>89.0</td>\n    </tr>\n    <tr>\n      <th>T</th>\n      <td>Polar, non-charged</td>\n      <td>-0.7</td>\n      <td>5.184989</td>\n      <td>-0.601803</td>\n      <td>116.1</td>\n    </tr>\n    <tr>\n      <th>W</th>\n      <td>Aromatic</td>\n      <td>-0.9</td>\n      <td>5.525</td>\n      <td>-0.239898</td>\n      <td>227.8</td>\n    </tr>\n    <tr>\n      <th>Y</th>\n      <td>Aromatic</td>\n      <td>-1.3</td>\n      <td>5.524318</td>\n      <td>-0.240897</td>\n      <td>193.6</td>\n    </tr>\n    <tr>\n      <th>V</th>\n      <td>Non-polar, aliphatic</td>\n      <td>4.2</td>\n      <td>5.494989</td>\n      <td>-0.266012</td>\n      <td>140.0</td>\n    </tr>\n  </tbody>\n</table>\n</div>"
     },
     "metadata": {},
     "execution_count": 7
    }
   ],
   "source": [
    "teste"
   ]
  },
  {
   "cell_type": "code",
   "execution_count": null,
   "metadata": {},
   "outputs": [],
   "source": []
  }
 ]
}