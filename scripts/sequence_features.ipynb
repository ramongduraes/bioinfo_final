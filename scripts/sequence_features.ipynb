{
 "cells": [
  {
   "cell_type": "markdown",
   "id": "speaking-tissue",
   "metadata": {},
   "source": [
    "# Extracting features from protein sequence data\n",
    "Protein sequence data stored in /data/{PROTEIN}.json"
   ]
  },
  {
   "cell_type": "code",
   "execution_count": 2,
   "id": "surrounded-sweet",
   "metadata": {},
   "outputs": [],
   "source": [
    "import pandas as pd\n",
    "import numpy as np\n",
    "import os\n",
    "import pickle"
   ]
  },
  {
   "cell_type": "code",
   "execution_count": 8,
   "id": "driving-headquarters",
   "metadata": {},
   "outputs": [
    {
     "data": {
      "text/html": [
       "<div>\n",
       "<style scoped>\n",
       "    .dataframe tbody tr th:only-of-type {\n",
       "        vertical-align: middle;\n",
       "    }\n",
       "\n",
       "    .dataframe tbody tr th {\n",
       "        vertical-align: top;\n",
       "    }\n",
       "\n",
       "    .dataframe thead th {\n",
       "        text-align: right;\n",
       "    }\n",
       "</style>\n",
       "<table border=\"1\" class=\"dataframe\">\n",
       "  <thead>\n",
       "    <tr style=\"text-align: right;\">\n",
       "      <th></th>\n",
       "      <th>Protein</th>\n",
       "      <th>Frequency</th>\n",
       "      <th>From</th>\n",
       "      <th>To</th>\n",
       "      <th>Position</th>\n",
       "      <th>Row</th>\n",
       "    </tr>\n",
       "  </thead>\n",
       "  <tbody>\n",
       "    <tr>\n",
       "      <th>0</th>\n",
       "      <td>P0DTC1</td>\n",
       "      <td>0.00003</td>\n",
       "      <td>S</td>\n",
       "      <td>A</td>\n",
       "      <td>4393</td>\n",
       "      <td>0</td>\n",
       "    </tr>\n",
       "    <tr>\n",
       "      <th>1</th>\n",
       "      <td>P0DTC1</td>\n",
       "      <td>0.00003</td>\n",
       "      <td>S</td>\n",
       "      <td>L</td>\n",
       "      <td>4393</td>\n",
       "      <td>0</td>\n",
       "    </tr>\n",
       "    <tr>\n",
       "      <th>2</th>\n",
       "      <td>P0DTC1</td>\n",
       "      <td>0.00016</td>\n",
       "      <td>A</td>\n",
       "      <td>D</td>\n",
       "      <td>4394</td>\n",
       "      <td>1</td>\n",
       "    </tr>\n",
       "    <tr>\n",
       "      <th>3</th>\n",
       "      <td>P0DTC1</td>\n",
       "      <td>0.00016</td>\n",
       "      <td>A</td>\n",
       "      <td>S</td>\n",
       "      <td>4394</td>\n",
       "      <td>1</td>\n",
       "    </tr>\n",
       "    <tr>\n",
       "      <th>4</th>\n",
       "      <td>P0DTC1</td>\n",
       "      <td>0.00016</td>\n",
       "      <td>A</td>\n",
       "      <td>T</td>\n",
       "      <td>4394</td>\n",
       "      <td>1</td>\n",
       "    </tr>\n",
       "  </tbody>\n",
       "</table>\n",
       "</div>"
      ],
      "text/plain": [
       "  Protein  Frequency From To  Position  Row\n",
       "0  P0DTC1    0.00003    S  A      4393    0\n",
       "1  P0DTC1    0.00003    S  L      4393    0\n",
       "2  P0DTC1    0.00016    A  D      4394    1\n",
       "3  P0DTC1    0.00016    A  S      4394    1\n",
       "4  P0DTC1    0.00016    A  T      4394    1"
      ]
     },
     "execution_count": 8,
     "metadata": {},
     "output_type": "execute_result"
    }
   ],
   "source": [
    "data_path = '../data/'\n",
    "df_path = data_path + 'swissmodel_dataframe.pkl'\n",
    "with open(df_path, 'rb') as f:\n",
    "    mutations_df = pickle.load(f)\n",
    "mutations_df.head()"
   ]
  },
  {
   "cell_type": "code",
   "execution_count": 20,
   "id": "found-outdoors",
   "metadata": {},
   "outputs": [
    {
     "name": "stdout",
     "output_type": "stream",
     "text": [
      "['S', 'A', 'D', 'G', 'F', 'V', 'L', 'P', 'Q', 'C', 'N', 'T', 'R', 'Y', 'K', 'H', 'W', 'I', 'E', 'M']\n"
     ]
    }
   ],
   "source": [
    "print(list(mutations_df.From.unique()))"
   ]
  },
  {
   "cell_type": "markdown",
   "id": "advance-transformation",
   "metadata": {},
   "source": [
    "**NOTE: I'm using 'Z' as a symbol for missing aminoacids (happens when the desired mutation position is at the beginning or end of the sequence)**"
   ]
  },
  {
   "cell_type": "code",
   "execution_count": 21,
   "id": "rolled-blend",
   "metadata": {},
   "outputs": [
    {
     "name": "stdout",
     "output_type": "stream",
     "text": [
      "P0DTC1 26\n",
      "P0DTC2 2761\n",
      "P0DTC3 1109\n",
      "P0DTC4 199\n",
      "P0DTC5 376\n",
      "P0DTC6 241\n",
      "P0DTC7 625\n",
      "P0DTC8 524\n",
      "P0DTC9 1276\n",
      "P0DTD1 15723\n",
      "P0DTD8 168\n"
     ]
    }
   ],
   "source": [
    "all_proteins = list(mutations_df.Protein.unique())\n",
    "left_aa = []\n",
    "right_aa = []\n",
    "for protein in all_proteins:\n",
    "    with open(data_path+protein+'.json', 'r') as f:\n",
    "        result_dict = json.loads(f.read())\n",
    "        assert len(result_dict['result']['sequence']) == result_dict['result']['sequence_length']\n",
    "        protein_df = mutations_df.loc[mutations_df.Protein == protein]\n",
    "        print(protein, len(protein_df))\n",
    "        for row, mutation in protein_df.iterrows():\n",
    "            assert mutation['From'] == result_dict['result']['sequence'][mutation['Position'] - 1]\n",
    "            try:\n",
    "                left_aa.append(result_dict['result']['sequence'][mutation['Position'] - 2])\n",
    "            except IndexError:\n",
    "                left_aa.append('Z')\n",
    "            try:\n",
    "                right_aa.append(result_dict['result']['sequence'][mutation['Position']])\n",
    "            except IndexError:\n",
    "                right_aa.append('Z')"
   ]
  },
  {
   "cell_type": "markdown",
   "id": "liquid-robin",
   "metadata": {},
   "source": [
    "# Appending features to mutation data"
   ]
  },
  {
   "cell_type": "code",
   "execution_count": 25,
   "id": "matched-gilbert",
   "metadata": {},
   "outputs": [
    {
     "data": {
      "text/html": [
       "<div>\n",
       "<style scoped>\n",
       "    .dataframe tbody tr th:only-of-type {\n",
       "        vertical-align: middle;\n",
       "    }\n",
       "\n",
       "    .dataframe tbody tr th {\n",
       "        vertical-align: top;\n",
       "    }\n",
       "\n",
       "    .dataframe thead th {\n",
       "        text-align: right;\n",
       "    }\n",
       "</style>\n",
       "<table border=\"1\" class=\"dataframe\">\n",
       "  <thead>\n",
       "    <tr style=\"text-align: right;\">\n",
       "      <th></th>\n",
       "      <th>Protein</th>\n",
       "      <th>Frequency</th>\n",
       "      <th>From</th>\n",
       "      <th>To</th>\n",
       "      <th>Position</th>\n",
       "      <th>Row</th>\n",
       "      <th>LeftAA</th>\n",
       "      <th>RightAA</th>\n",
       "    </tr>\n",
       "  </thead>\n",
       "  <tbody>\n",
       "    <tr>\n",
       "      <th>0</th>\n",
       "      <td>P0DTC1</td>\n",
       "      <td>0.00003</td>\n",
       "      <td>S</td>\n",
       "      <td>A</td>\n",
       "      <td>4393</td>\n",
       "      <td>0</td>\n",
       "      <td>Q</td>\n",
       "      <td>A</td>\n",
       "    </tr>\n",
       "    <tr>\n",
       "      <th>1</th>\n",
       "      <td>P0DTC1</td>\n",
       "      <td>0.00003</td>\n",
       "      <td>S</td>\n",
       "      <td>L</td>\n",
       "      <td>4393</td>\n",
       "      <td>0</td>\n",
       "      <td>Q</td>\n",
       "      <td>A</td>\n",
       "    </tr>\n",
       "    <tr>\n",
       "      <th>2</th>\n",
       "      <td>P0DTC1</td>\n",
       "      <td>0.00016</td>\n",
       "      <td>A</td>\n",
       "      <td>D</td>\n",
       "      <td>4394</td>\n",
       "      <td>1</td>\n",
       "      <td>S</td>\n",
       "      <td>D</td>\n",
       "    </tr>\n",
       "    <tr>\n",
       "      <th>3</th>\n",
       "      <td>P0DTC1</td>\n",
       "      <td>0.00016</td>\n",
       "      <td>A</td>\n",
       "      <td>S</td>\n",
       "      <td>4394</td>\n",
       "      <td>1</td>\n",
       "      <td>S</td>\n",
       "      <td>D</td>\n",
       "    </tr>\n",
       "    <tr>\n",
       "      <th>4</th>\n",
       "      <td>P0DTC1</td>\n",
       "      <td>0.00016</td>\n",
       "      <td>A</td>\n",
       "      <td>T</td>\n",
       "      <td>4394</td>\n",
       "      <td>1</td>\n",
       "      <td>S</td>\n",
       "      <td>D</td>\n",
       "    </tr>\n",
       "  </tbody>\n",
       "</table>\n",
       "</div>"
      ],
      "text/plain": [
       "  Protein  Frequency From To  Position  Row LeftAA RightAA\n",
       "0  P0DTC1    0.00003    S  A      4393    0      Q       A\n",
       "1  P0DTC1    0.00003    S  L      4393    0      Q       A\n",
       "2  P0DTC1    0.00016    A  D      4394    1      S       D\n",
       "3  P0DTC1    0.00016    A  S      4394    1      S       D\n",
       "4  P0DTC1    0.00016    A  T      4394    1      S       D"
      ]
     },
     "execution_count": 25,
     "metadata": {},
     "output_type": "execute_result"
    }
   ],
   "source": [
    "mutations_df['LeftAA'] = left_aa\n",
    "mutations_df['RightAA'] = right_aa\n",
    "mutations_df.head()"
   ]
  },
  {
   "cell_type": "markdown",
   "id": "labeled-remove",
   "metadata": {},
   "source": [
    "# Saving new dataframe"
   ]
  },
  {
   "cell_type": "code",
   "execution_count": 27,
   "id": "authentic-hungary",
   "metadata": {},
   "outputs": [],
   "source": [
    "processed_df_path = data_path + 'processed_df.pkl'"
   ]
  },
  {
   "cell_type": "code",
   "execution_count": 26,
   "id": "pretty-exclusion",
   "metadata": {},
   "outputs": [],
   "source": [
    "with open(df_path, 'wb') as f:\n",
    "    pickle.dump(mutations_df, f)"
   ]
  },
  {
   "cell_type": "markdown",
   "id": "concrete-metropolitan",
   "metadata": {},
   "source": [
    "Testing saved file"
   ]
  },
  {
   "cell_type": "code",
   "execution_count": 28,
   "id": "royal-grammar",
   "metadata": {},
   "outputs": [
    {
     "data": {
      "text/html": [
       "<div>\n",
       "<style scoped>\n",
       "    .dataframe tbody tr th:only-of-type {\n",
       "        vertical-align: middle;\n",
       "    }\n",
       "\n",
       "    .dataframe tbody tr th {\n",
       "        vertical-align: top;\n",
       "    }\n",
       "\n",
       "    .dataframe thead th {\n",
       "        text-align: right;\n",
       "    }\n",
       "</style>\n",
       "<table border=\"1\" class=\"dataframe\">\n",
       "  <thead>\n",
       "    <tr style=\"text-align: right;\">\n",
       "      <th></th>\n",
       "      <th>Protein</th>\n",
       "      <th>Frequency</th>\n",
       "      <th>From</th>\n",
       "      <th>To</th>\n",
       "      <th>Position</th>\n",
       "      <th>Row</th>\n",
       "      <th>LeftAA</th>\n",
       "      <th>RightAA</th>\n",
       "    </tr>\n",
       "  </thead>\n",
       "  <tbody>\n",
       "    <tr>\n",
       "      <th>0</th>\n",
       "      <td>P0DTC1</td>\n",
       "      <td>0.00003</td>\n",
       "      <td>S</td>\n",
       "      <td>A</td>\n",
       "      <td>4393</td>\n",
       "      <td>0</td>\n",
       "      <td>Q</td>\n",
       "      <td>A</td>\n",
       "    </tr>\n",
       "    <tr>\n",
       "      <th>1</th>\n",
       "      <td>P0DTC1</td>\n",
       "      <td>0.00003</td>\n",
       "      <td>S</td>\n",
       "      <td>L</td>\n",
       "      <td>4393</td>\n",
       "      <td>0</td>\n",
       "      <td>Q</td>\n",
       "      <td>A</td>\n",
       "    </tr>\n",
       "    <tr>\n",
       "      <th>2</th>\n",
       "      <td>P0DTC1</td>\n",
       "      <td>0.00016</td>\n",
       "      <td>A</td>\n",
       "      <td>D</td>\n",
       "      <td>4394</td>\n",
       "      <td>1</td>\n",
       "      <td>S</td>\n",
       "      <td>D</td>\n",
       "    </tr>\n",
       "    <tr>\n",
       "      <th>3</th>\n",
       "      <td>P0DTC1</td>\n",
       "      <td>0.00016</td>\n",
       "      <td>A</td>\n",
       "      <td>S</td>\n",
       "      <td>4394</td>\n",
       "      <td>1</td>\n",
       "      <td>S</td>\n",
       "      <td>D</td>\n",
       "    </tr>\n",
       "    <tr>\n",
       "      <th>4</th>\n",
       "      <td>P0DTC1</td>\n",
       "      <td>0.00016</td>\n",
       "      <td>A</td>\n",
       "      <td>T</td>\n",
       "      <td>4394</td>\n",
       "      <td>1</td>\n",
       "      <td>S</td>\n",
       "      <td>D</td>\n",
       "    </tr>\n",
       "  </tbody>\n",
       "</table>\n",
       "</div>"
      ],
      "text/plain": [
       "  Protein  Frequency From To  Position  Row LeftAA RightAA\n",
       "0  P0DTC1    0.00003    S  A      4393    0      Q       A\n",
       "1  P0DTC1    0.00003    S  L      4393    0      Q       A\n",
       "2  P0DTC1    0.00016    A  D      4394    1      S       D\n",
       "3  P0DTC1    0.00016    A  S      4394    1      S       D\n",
       "4  P0DTC1    0.00016    A  T      4394    1      S       D"
      ]
     },
     "execution_count": 28,
     "metadata": {},
     "output_type": "execute_result"
    }
   ],
   "source": [
    "with open(processed_df_path, 'rb') as f:\n",
    "    loaded_df = pickle.load(f)\n",
    "loaded_df.head()"
   ]
  },
  {
   "cell_type": "code",
   "execution_count": null,
   "id": "sensitive-catering",
   "metadata": {},
   "outputs": [],
   "source": []
  }
 ],
 "metadata": {
  "kernelspec": {
   "display_name": "Python 3",
   "language": "python",
   "name": "python3"
  },
  "language_info": {
   "codemirror_mode": {
    "name": "ipython",
    "version": 3
   },
   "file_extension": ".py",
   "mimetype": "text/x-python",
   "name": "python",
   "nbconvert_exporter": "python",
   "pygments_lexer": "ipython3",
   "version": "3.8.5"
  },
  "varInspector": {
   "cols": {
    "lenName": 16,
    "lenType": 16,
    "lenVar": 40
   },
   "kernels_config": {
    "python": {
     "delete_cmd_postfix": "",
     "delete_cmd_prefix": "del ",
     "library": "var_list.py",
     "varRefreshCmd": "print(var_dic_list())"
    },
    "r": {
     "delete_cmd_postfix": ") ",
     "delete_cmd_prefix": "rm(",
     "library": "var_list.r",
     "varRefreshCmd": "cat(var_dic_list()) "
    }
   },
   "types_to_exclude": [
    "module",
    "function",
    "builtin_function_or_method",
    "instance",
    "_Feature"
   ],
   "window_display": false
  }
 },
 "nbformat": 4,
 "nbformat_minor": 5
}
